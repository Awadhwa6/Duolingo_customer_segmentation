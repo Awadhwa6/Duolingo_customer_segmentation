{
 "cells": [
  {
   "cell_type": "markdown",
   "metadata": {},
   "source": [
    "# DUOLINGO CUSTOMER SEGMENTATION PROJECT"
   ]
  },
  {
   "cell_type": "code",
   "execution_count": 1,
   "metadata": {},
   "outputs": [],
   "source": [
    "import warnings\n",
    "warnings.filterwarnings('ignore')\n",
    "from IPython.display import Image\n",
    "\n",
    "import numpy as np\n",
    "import pandas as pd\n",
    "import seaborn as sns\n",
    "import matplotlib.pyplot as plt"
   ]
  },
  {
   "cell_type": "code",
   "execution_count": 2,
   "metadata": {},
   "outputs": [],
   "source": [
    "survey_data = pd.read_csv('Downloads//survey_data.csv')\n",
    "survey_users_app_usage = pd.read_csv('Downloads//survey_users_app_usage.csv')"
   ]
  },
  {
   "cell_type": "code",
   "execution_count": 3,
   "metadata": {},
   "outputs": [],
   "source": [
    "data = survey_data.merge(survey_users_app_usage,how='left',on='user_id') "
   ]
  },
  {
   "cell_type": "code",
   "execution_count": 4,
   "metadata": {},
   "outputs": [],
   "source": [
    "# DATA CLEANING \n",
    "data = data.dropna(subset=['user_id'])\n",
    "#Removing values where respondant took less than 5 seconds to respondant, to remove casual responses\n",
    "data = data[data['time_spent_seconds'].to_numpy() > 5]"
   ]
  },
  {
   "cell_type": "markdown",
   "metadata": {},
   "source": [
    "## K-MEANS CLUSTERING"
   ]
  },
  {
   "cell_type": "code",
   "execution_count": 5,
   "metadata": {},
   "outputs": [
    {
     "data": {
      "text/html": [
       "<div>\n",
       "<style scoped>\n",
       "    .dataframe tbody tr th:only-of-type {\n",
       "        vertical-align: middle;\n",
       "    }\n",
       "\n",
       "    .dataframe tbody tr th {\n",
       "        vertical-align: top;\n",
       "    }\n",
       "\n",
       "    .dataframe thead th {\n",
       "        text-align: right;\n",
       "    }\n",
       "</style>\n",
       "<table border=\"1\" class=\"dataframe\">\n",
       "  <thead>\n",
       "    <tr style=\"text-align: right;\">\n",
       "      <th></th>\n",
       "      <th>longest_streak</th>\n",
       "      <th>n_active_days</th>\n",
       "      <th>n_lessons_completed</th>\n",
       "    </tr>\n",
       "  </thead>\n",
       "  <tbody>\n",
       "    <tr>\n",
       "      <th>0</th>\n",
       "      <td>1.563502</td>\n",
       "      <td>1.117434</td>\n",
       "      <td>0.541735</td>\n",
       "    </tr>\n",
       "    <tr>\n",
       "      <th>1</th>\n",
       "      <td>0.240582</td>\n",
       "      <td>0.186805</td>\n",
       "      <td>-0.430784</td>\n",
       "    </tr>\n",
       "    <tr>\n",
       "      <th>2</th>\n",
       "      <td>0.304549</td>\n",
       "      <td>-0.302851</td>\n",
       "      <td>-0.790808</td>\n",
       "    </tr>\n",
       "    <tr>\n",
       "      <th>3</th>\n",
       "      <td>0.466447</td>\n",
       "      <td>1.253858</td>\n",
       "      <td>1.658036</td>\n",
       "    </tr>\n",
       "    <tr>\n",
       "      <th>4</th>\n",
       "      <td>1.320089</td>\n",
       "      <td>0.848548</td>\n",
       "      <td>0.641930</td>\n",
       "    </tr>\n",
       "  </tbody>\n",
       "</table>\n",
       "</div>"
      ],
      "text/plain": [
       "   longest_streak  n_active_days  n_lessons_completed\n",
       "0        1.563502       1.117434             0.541735\n",
       "1        0.240582       0.186805            -0.430784\n",
       "2        0.304549      -0.302851            -0.790808\n",
       "3        0.466447       1.253858             1.658036\n",
       "4        1.320089       0.848548             0.641930"
      ]
     },
     "execution_count": 5,
     "metadata": {},
     "output_type": "execute_result"
    }
   ],
   "source": [
    "#Normaliing data\n",
    "data_copy = data[['longest_streak', 'n_active_days', 'n_lessons_completed']].fillna(0)\n",
    "data_rank = data_copy.rank(method='first')\n",
    "data_normalized = (data_rank - data_rank.mean()) / data_rank.std()\n",
    "data_normalized.head()"
   ]
  },
  {
   "cell_type": "code",
   "execution_count": 6,
   "metadata": {},
   "outputs": [
    {
     "name": "stdout",
     "output_type": "stream",
     "text": [
      "Silhouette coefficient for 2 clusters: 0.540\n",
      "Silhouette coefficient for 3 clusters: 0.436\n",
      "Silhouette coefficient for 4 clusters: 0.373\n",
      "Silhouette coefficient for 5 clusters: 0.371\n",
      "Silhouette coefficient for 6 clusters: 0.340\n",
      "Silhouette coefficient for 7 clusters: 0.334\n",
      "Silhouette coefficient for 8 clusters: 0.338\n"
     ]
    }
   ],
   "source": [
    "# Import packages\n",
    "from sklearn.cluster import KMeans\n",
    "from sklearn.metrics import silhouette_score\n",
    "from sklearn import metrics \n",
    "from scipy.spatial.distance import cdist\n",
    "\n",
    "# Calculate Silhouette coefficients for different k\n",
    "for n_cluster in [2, 3, 4, 5, 6, 7, 8]:\n",
    "    kmeans = KMeans(n_clusters=n_cluster,\n",
    "                    max_iter=400,\n",
    "                    n_init=20).fit(data_normalized[['longest_streak',\n",
    "                                                  'n_active_days',\n",
    "                                                  'n_lessons_completed']])\n",
    "    silhouette_avg = silhouette_score(data_normalized[['longest_streak',\n",
    "                                                     'n_active_days',\n",
    "                                                     'n_lessons_completed']],\n",
    "                                      kmeans.labels_) \n",
    "    print('Silhouette coefficient for %i clusters: %0.3f' % (n_cluster, silhouette_avg))"
   ]
  },
  {
   "cell_type": "code",
   "execution_count": 7,
   "metadata": {},
   "outputs": [
    {
     "data": {
      "text/html": [
       "<div>\n",
       "<style scoped>\n",
       "    .dataframe tbody tr th:only-of-type {\n",
       "        vertical-align: middle;\n",
       "    }\n",
       "\n",
       "    .dataframe tbody tr th {\n",
       "        vertical-align: top;\n",
       "    }\n",
       "\n",
       "    .dataframe thead th {\n",
       "        text-align: right;\n",
       "    }\n",
       "</style>\n",
       "<table border=\"1\" class=\"dataframe\">\n",
       "  <thead>\n",
       "    <tr style=\"text-align: right;\">\n",
       "      <th></th>\n",
       "      <th>longest_streak</th>\n",
       "      <th>n_active_days</th>\n",
       "      <th>n_lessons_completed</th>\n",
       "      <th>Cluster</th>\n",
       "    </tr>\n",
       "  </thead>\n",
       "  <tbody>\n",
       "    <tr>\n",
       "      <th>0</th>\n",
       "      <td>1.563502</td>\n",
       "      <td>1.117434</td>\n",
       "      <td>0.541735</td>\n",
       "      <td>0</td>\n",
       "    </tr>\n",
       "    <tr>\n",
       "      <th>1</th>\n",
       "      <td>0.240582</td>\n",
       "      <td>0.186805</td>\n",
       "      <td>-0.430784</td>\n",
       "      <td>2</td>\n",
       "    </tr>\n",
       "    <tr>\n",
       "      <th>2</th>\n",
       "      <td>0.304549</td>\n",
       "      <td>-0.302851</td>\n",
       "      <td>-0.790808</td>\n",
       "      <td>2</td>\n",
       "    </tr>\n",
       "    <tr>\n",
       "      <th>3</th>\n",
       "      <td>0.466447</td>\n",
       "      <td>1.253858</td>\n",
       "      <td>1.658036</td>\n",
       "      <td>0</td>\n",
       "    </tr>\n",
       "    <tr>\n",
       "      <th>4</th>\n",
       "      <td>1.320089</td>\n",
       "      <td>0.848548</td>\n",
       "      <td>0.641930</td>\n",
       "      <td>0</td>\n",
       "    </tr>\n",
       "  </tbody>\n",
       "</table>\n",
       "</div>"
      ],
      "text/plain": [
       "   longest_streak  n_active_days  n_lessons_completed  Cluster\n",
       "0        1.563502       1.117434             0.541735        0\n",
       "1        0.240582       0.186805            -0.430784        2\n",
       "2        0.304549      -0.302851            -0.790808        2\n",
       "3        0.466447       1.253858             1.658036        0\n",
       "4        1.320089       0.848548             0.641930        0"
      ]
     },
     "execution_count": 7,
     "metadata": {},
     "output_type": "execute_result"
    }
   ],
   "source": [
    "kmeans = KMeans(n_clusters=3,\n",
    "                max_iter=400,\n",
    "                n_init=20).fit(data_normalized[['longest_streak',\n",
    "                                                     'n_active_days',\n",
    "                                                     'n_lessons_completed']])\n",
    "\n",
    "# Get centres of the clusters\n",
    "data_cluster_centres = pd.DataFrame(kmeans.cluster_centers_, columns=['longest_streak',\n",
    "                                                     'n_active_days',\n",
    "                                                     'n_lessons_completed'])\n",
    "data_cluster_centres['Cluster'] = data_cluster_centres.index\n",
    "\n",
    "# Mark each customer with its cluster\n",
    "data_two_clusters = data_normalized[['longest_streak',\n",
    "                                    'n_active_days',\n",
    "                                    'n_lessons_completed']].copy(deep=True)\n",
    "data_two_clusters['Cluster'] = kmeans.labels_\n",
    "data_two_clusters.head()"
   ]
  },
  {
   "cell_type": "code",
   "execution_count": 8,
   "metadata": {},
   "outputs": [
    {
     "data": {
      "text/html": [
       "<div>\n",
       "<style scoped>\n",
       "    .dataframe tbody tr th:only-of-type {\n",
       "        vertical-align: middle;\n",
       "    }\n",
       "\n",
       "    .dataframe tbody tr th {\n",
       "        vertical-align: top;\n",
       "    }\n",
       "\n",
       "    .dataframe thead th {\n",
       "        text-align: right;\n",
       "    }\n",
       "</style>\n",
       "<table border=\"1\" class=\"dataframe\">\n",
       "  <thead>\n",
       "    <tr style=\"text-align: right;\">\n",
       "      <th></th>\n",
       "      <th>longest_streak</th>\n",
       "      <th>n_active_days</th>\n",
       "      <th>n_lessons_completed</th>\n",
       "      <th>Cluster</th>\n",
       "    </tr>\n",
       "  </thead>\n",
       "  <tbody>\n",
       "    <tr>\n",
       "      <th>0</th>\n",
       "      <td>1.040691</td>\n",
       "      <td>1.040641</td>\n",
       "      <td>0.888664</td>\n",
       "      <td>0</td>\n",
       "    </tr>\n",
       "    <tr>\n",
       "      <th>1</th>\n",
       "      <td>-1.121933</td>\n",
       "      <td>-1.125889</td>\n",
       "      <td>-1.132375</td>\n",
       "      <td>1</td>\n",
       "    </tr>\n",
       "    <tr>\n",
       "      <th>2</th>\n",
       "      <td>-0.060678</td>\n",
       "      <td>-0.056483</td>\n",
       "      <td>0.130440</td>\n",
       "      <td>2</td>\n",
       "    </tr>\n",
       "  </tbody>\n",
       "</table>\n",
       "</div>"
      ],
      "text/plain": [
       "   longest_streak  n_active_days  n_lessons_completed  Cluster\n",
       "0        1.040691       1.040641             0.888664        0\n",
       "1       -1.121933      -1.125889            -1.132375        1\n",
       "2       -0.060678      -0.056483             0.130440        2"
      ]
     },
     "execution_count": 8,
     "metadata": {},
     "output_type": "execute_result"
    }
   ],
   "source": [
    "data_cluster_centres"
   ]
  },
  {
   "cell_type": "code",
   "execution_count": 9,
   "metadata": {},
   "outputs": [
    {
     "data": {
      "image/png": "[encoded data removed]",
      "text/plain": [
       "<Figure size 432x288 with 1 Axes>"
      ]
     },
     "metadata": {
      "needs_background": "light"
     },
     "output_type": "display_data"
    }
   ],
   "source": [
    "# VISUALIZING OUR CLUSTERS\n",
    "plt.scatter(data_two_clusters.loc[data_two_clusters['Cluster'] == 0]['longest_streak'], \n",
    "            data_two_clusters.loc[data_two_clusters['Cluster'] == 0]['n_lessons_completed'],\n",
    "            c='mediumvioletred');\n",
    "\n",
    "plt.scatter(data_two_clusters.loc[data_two_clusters['Cluster'] == 1]['longest_streak'], \n",
    "            data_two_clusters.loc[data_two_clusters['Cluster'] == 1]['n_lessons_completed'],\n",
    "            c='dodgerblue');\n",
    "\n",
    "plt.scatter(data_two_clusters.loc[data_two_clusters['Cluster'] == 2]['longest_streak'], \n",
    "            data_two_clusters.loc[data_two_clusters['Cluster'] == 2]['n_lessons_completed'],\n",
    "            c='gold');\n",
    "plt.title('longest streak vs. lessons completed', fontsize=16);\n",
    "plt.xlabel('longest streak', fontsize=14);\n",
    "plt.ylabel('lessons completed', fontsize=14);"
   ]
  },
  {
   "cell_type": "code",
   "execution_count": 10,
   "metadata": {},
   "outputs": [
    {
     "data": {
      "image/png": "[encoded data removed]",
      "text/plain": [
       "<Figure size 432x288 with 1 Axes>"
      ]
     },
     "metadata": {
      "needs_background": "light"
     },
     "output_type": "display_data"
    }
   ],
   "source": [
    "plt.scatter(data_two_clusters.loc[data_two_clusters['Cluster'] == 0]['longest_streak'], \n",
    "            data_two_clusters.loc[data_two_clusters['Cluster'] == 0]['n_active_days'],\n",
    "            c='mediumvioletred');\n",
    "\n",
    "plt.scatter(data_two_clusters.loc[data_two_clusters['Cluster'] == 1]['longest_streak'], \n",
    "            data_two_clusters.loc[data_two_clusters['Cluster'] == 1]['n_active_days'],\n",
    "            c='dodgerblue');\n",
    "\n",
    "plt.scatter(data_two_clusters.loc[data_two_clusters['Cluster'] == 2]['longest_streak'], \n",
    "            data_two_clusters.loc[data_two_clusters['Cluster'] == 2]['n_active_days'],\n",
    "            c='gold');\n",
    "plt.title('longest streak vs. number of active days', fontsize=16);\n",
    "plt.xlabel('longest streak', fontsize=14);\n",
    "plt.ylabel('number of active days', fontsize=14);"
   ]
  },
  {
   "cell_type": "code",
   "execution_count": 11,
   "metadata": {},
   "outputs": [
    {
     "data": {
      "image/png": "[encoded data removed]",
      "text/plain": [
       "<Figure size 432x288 with 1 Axes>"
      ]
     },
     "metadata": {
      "needs_background": "light"
     },
     "output_type": "display_data"
    }
   ],
   "source": [
    "plt.scatter(data_two_clusters.loc[data_two_clusters['Cluster'] == 0]['n_lessons_completed'], \n",
    "            data_two_clusters.loc[data_two_clusters['Cluster'] == 0]['n_active_days'],\n",
    "            c='mediumvioletred');\n",
    "\n",
    "plt.scatter(data_two_clusters.loc[data_two_clusters['Cluster'] == 1]['n_lessons_completed'], \n",
    "            data_two_clusters.loc[data_two_clusters['Cluster'] == 1]['n_active_days'],\n",
    "            c='dodgerblue');\n",
    "\n",
    "plt.scatter(data_two_clusters.loc[data_two_clusters['Cluster'] == 2]['n_lessons_completed'], \n",
    "            data_two_clusters.loc[data_two_clusters['Cluster'] == 2]['n_active_days'],\n",
    "            c='gold');\n",
    "plt.title('lessons completed vs. number of active days', fontsize=16);\n",
    "plt.xlabel('lessons completed', fontsize=14);\n",
    "plt.ylabel('number of active days', fontsize=14);"
   ]
  },
  {
   "cell_type": "markdown",
   "metadata": {},
   "source": [
    "OBSERVATIONS:  \n",
    "We recognize that there are three main clusters-  \n",
    "1 . CLUSTER a : Highly motivated users who are active, complete their daily goals and complete more courses.  \n",
    "2 . CLUSTER b : Less motivated users who are less active, have inconsistency in meeting their daily goals, and have done less courses.  \n",
    "3 . CLUSTER c : Users who are less active on a daily basis, but still complete more courses than average.  "
   ]
  },
  {
   "cell_type": "markdown",
   "metadata": {},
   "source": [
    "## ADDITIONAL ANALYSIS"
   ]
  },
  {
   "cell_type": "markdown",
   "metadata": {},
   "source": [
    "### 1. ANALYSIS ON USERS WITH SUBSCRIPTION"
   ]
  },
  {
   "cell_type": "code",
   "execution_count": 12,
   "metadata": {},
   "outputs": [],
   "source": [
    "users_with_subsciptions= data[data['purchased_subscription']==True]"
   ]
  },
  {
   "cell_type": "markdown",
   "metadata": {},
   "source": [
    "#### SALARY"
   ]
  },
  {
   "cell_type": "code",
   "execution_count": 13,
   "metadata": {},
   "outputs": [
    {
     "data": {
      "text/html": [
       "<div>\n",
       "<style scoped>\n",
       "    .dataframe tbody tr th:only-of-type {\n",
       "        vertical-align: middle;\n",
       "    }\n",
       "\n",
       "    .dataframe tbody tr th {\n",
       "        vertical-align: top;\n",
       "    }\n",
       "\n",
       "    .dataframe thead th {\n",
       "        text-align: right;\n",
       "    }\n",
       "</style>\n",
       "<table border=\"1\" class=\"dataframe\">\n",
       "  <thead>\n",
       "    <tr style=\"text-align: right;\">\n",
       "      <th></th>\n",
       "      <th>count</th>\n",
       "      <th>mean</th>\n",
       "      <th>std</th>\n",
       "      <th>min</th>\n",
       "      <th>25%</th>\n",
       "      <th>50%</th>\n",
       "      <th>75%</th>\n",
       "      <th>max</th>\n",
       "    </tr>\n",
       "    <tr>\n",
       "      <th>annual_income</th>\n",
       "      <th></th>\n",
       "      <th></th>\n",
       "      <th></th>\n",
       "      <th></th>\n",
       "      <th></th>\n",
       "      <th></th>\n",
       "      <th></th>\n",
       "      <th></th>\n",
       "    </tr>\n",
       "  </thead>\n",
       "  <tbody>\n",
       "    <tr>\n",
       "      <th>$0 - $10,000</th>\n",
       "      <td>299.0</td>\n",
       "      <td>63.899666</td>\n",
       "      <td>35.875857</td>\n",
       "      <td>2.0</td>\n",
       "      <td>32.0</td>\n",
       "      <td>76.0</td>\n",
       "      <td>90.0</td>\n",
       "      <td>286.0</td>\n",
       "    </tr>\n",
       "    <tr>\n",
       "      <th>$11,000 - $25,000</th>\n",
       "      <td>269.0</td>\n",
       "      <td>66.193309</td>\n",
       "      <td>33.268578</td>\n",
       "      <td>4.0</td>\n",
       "      <td>41.0</td>\n",
       "      <td>77.0</td>\n",
       "      <td>91.0</td>\n",
       "      <td>260.0</td>\n",
       "    </tr>\n",
       "    <tr>\n",
       "      <th>$151,000 or more</th>\n",
       "      <td>211.0</td>\n",
       "      <td>74.729858</td>\n",
       "      <td>32.951451</td>\n",
       "      <td>3.0</td>\n",
       "      <td>58.5</td>\n",
       "      <td>86.0</td>\n",
       "      <td>93.0</td>\n",
       "      <td>289.0</td>\n",
       "    </tr>\n",
       "    <tr>\n",
       "      <th>$26,000 - $75,000</th>\n",
       "      <td>553.0</td>\n",
       "      <td>73.511754</td>\n",
       "      <td>35.485815</td>\n",
       "      <td>2.0</td>\n",
       "      <td>53.0</td>\n",
       "      <td>85.0</td>\n",
       "      <td>93.0</td>\n",
       "      <td>289.0</td>\n",
       "    </tr>\n",
       "    <tr>\n",
       "      <th>$76,000 - $150,000</th>\n",
       "      <td>325.0</td>\n",
       "      <td>71.544615</td>\n",
       "      <td>32.524663</td>\n",
       "      <td>1.0</td>\n",
       "      <td>51.0</td>\n",
       "      <td>82.0</td>\n",
       "      <td>92.0</td>\n",
       "      <td>257.0</td>\n",
       "    </tr>\n",
       "  </tbody>\n",
       "</table>\n",
       "</div>"
      ],
      "text/plain": [
       "                    count       mean        std  min   25%   50%   75%    max\n",
       "annual_income                                                                \n",
       "$0 - $10,000        299.0  63.899666  35.875857  2.0  32.0  76.0  90.0  286.0\n",
       "$11,000 - $25,000   269.0  66.193309  33.268578  4.0  41.0  77.0  91.0  260.0\n",
       "$151,000 or more    211.0  74.729858  32.951451  3.0  58.5  86.0  93.0  289.0\n",
       "$26,000 - $75,000   553.0  73.511754  35.485815  2.0  53.0  85.0  93.0  289.0\n",
       "$76,000 - $150,000  325.0  71.544615  32.524663  1.0  51.0  82.0  92.0  257.0"
      ]
     },
     "execution_count": 13,
     "metadata": {},
     "output_type": "execute_result"
    }
   ],
   "source": [
    "users_with_subsciptions.groupby('annual_income')['n_active_days'].describe()"
   ]
  },
  {
   "cell_type": "markdown",
   "metadata": {},
   "source": [
    "OBSERVATIONS:  \n",
    "1 . Users with subscription who have higher salaries are more likely to be active on the platform (~ 74 days)  than those with lower salaries (~63-66 days)."
   ]
  },
  {
   "cell_type": "markdown",
   "metadata": {},
   "source": [
    "#### AGE"
   ]
  },
  {
   "cell_type": "code",
   "execution_count": 14,
   "metadata": {},
   "outputs": [
    {
     "data": {
      "text/html": [
       "<div>\n",
       "<style scoped>\n",
       "    .dataframe tbody tr th:only-of-type {\n",
       "        vertical-align: middle;\n",
       "    }\n",
       "\n",
       "    .dataframe tbody tr th {\n",
       "        vertical-align: top;\n",
       "    }\n",
       "\n",
       "    .dataframe thead th {\n",
       "        text-align: right;\n",
       "    }\n",
       "</style>\n",
       "<table border=\"1\" class=\"dataframe\">\n",
       "  <thead>\n",
       "    <tr style=\"text-align: right;\">\n",
       "      <th></th>\n",
       "      <th>count</th>\n",
       "      <th>mean</th>\n",
       "      <th>std</th>\n",
       "      <th>min</th>\n",
       "      <th>25%</th>\n",
       "      <th>50%</th>\n",
       "      <th>75%</th>\n",
       "      <th>max</th>\n",
       "    </tr>\n",
       "    <tr>\n",
       "      <th>age</th>\n",
       "      <th></th>\n",
       "      <th></th>\n",
       "      <th></th>\n",
       "      <th></th>\n",
       "      <th></th>\n",
       "      <th></th>\n",
       "      <th></th>\n",
       "      <th></th>\n",
       "    </tr>\n",
       "  </thead>\n",
       "  <tbody>\n",
       "    <tr>\n",
       "      <th>18-34</th>\n",
       "      <td>435.0</td>\n",
       "      <td>59.494253</td>\n",
       "      <td>35.318392</td>\n",
       "      <td>2.0</td>\n",
       "      <td>29.00</td>\n",
       "      <td>64.0</td>\n",
       "      <td>88.0</td>\n",
       "      <td>278.0</td>\n",
       "    </tr>\n",
       "    <tr>\n",
       "      <th>35 - 54</th>\n",
       "      <td>668.0</td>\n",
       "      <td>73.008982</td>\n",
       "      <td>35.400471</td>\n",
       "      <td>3.0</td>\n",
       "      <td>51.75</td>\n",
       "      <td>83.5</td>\n",
       "      <td>92.0</td>\n",
       "      <td>289.0</td>\n",
       "    </tr>\n",
       "    <tr>\n",
       "      <th>55 - 74</th>\n",
       "      <td>662.0</td>\n",
       "      <td>75.972810</td>\n",
       "      <td>32.465401</td>\n",
       "      <td>1.0</td>\n",
       "      <td>60.25</td>\n",
       "      <td>86.0</td>\n",
       "      <td>94.0</td>\n",
       "      <td>289.0</td>\n",
       "    </tr>\n",
       "    <tr>\n",
       "      <th>75 or older</th>\n",
       "      <td>63.0</td>\n",
       "      <td>76.492063</td>\n",
       "      <td>23.223926</td>\n",
       "      <td>19.0</td>\n",
       "      <td>64.50</td>\n",
       "      <td>88.0</td>\n",
       "      <td>94.0</td>\n",
       "      <td>95.0</td>\n",
       "    </tr>\n",
       "    <tr>\n",
       "      <th>Under 18</th>\n",
       "      <td>30.0</td>\n",
       "      <td>59.300000</td>\n",
       "      <td>29.640548</td>\n",
       "      <td>5.0</td>\n",
       "      <td>32.25</td>\n",
       "      <td>71.5</td>\n",
       "      <td>83.0</td>\n",
       "      <td>94.0</td>\n",
       "    </tr>\n",
       "  </tbody>\n",
       "</table>\n",
       "</div>"
      ],
      "text/plain": [
       "             count       mean        std   min    25%   50%   75%    max\n",
       "age                                                                     \n",
       "18-34        435.0  59.494253  35.318392   2.0  29.00  64.0  88.0  278.0\n",
       "35 - 54      668.0  73.008982  35.400471   3.0  51.75  83.5  92.0  289.0\n",
       "55 - 74      662.0  75.972810  32.465401   1.0  60.25  86.0  94.0  289.0\n",
       "75 or older   63.0  76.492063  23.223926  19.0  64.50  88.0  94.0   95.0\n",
       "Under 18      30.0  59.300000  29.640548   5.0  32.25  71.5  83.0   94.0"
      ]
     },
     "execution_count": 14,
     "metadata": {},
     "output_type": "execute_result"
    }
   ],
   "source": [
    "users_with_subsciptions.groupby('age')['n_active_days'].describe()"
   ]
  },
  {
   "cell_type": "markdown",
   "metadata": {},
   "source": [
    "OBSERVATIONS:  \n",
    "1 .  Users under 18, mostly don't purchase the subscription (only 30 users under 18 have subscriptions). This makes sense as they are most likely minors who yet don't earn money.  \n",
    "2 .  The younger age categories (Under 18 and 18-34) who purchase a subscription, seem to be less active on average (around ~59 days) than the older age categories (35 +) who seem to be active for around ~75 days on average. \n"
   ]
  },
  {
   "cell_type": "markdown",
   "metadata": {},
   "source": [
    "### 2. ANALYSIS ON LEVEL OF PROFICIENCY vs  USAGE"
   ]
  },
  {
   "cell_type": "code",
   "execution_count": 15,
   "metadata": {},
   "outputs": [
    {
     "data": {
      "image/png": "[encoded data removed]",
      "text/plain": [
       "<Figure size 360x360 with 1 Axes>"
      ]
     },
     "metadata": {
      "needs_background": "light"
     },
     "output_type": "display_data"
    }
   ],
   "source": [
    "proficiency_vs_usage = sns.catplot(x=\"n_active_days\", y=\"primary_language_proficiency\", kind=\"box\", data=data)\n",
    "proficiency_vs_usage;"
   ]
  },
  {
   "cell_type": "markdown",
   "metadata": {},
   "source": [
    "OBSERVATIONS:  \n",
    "1 . Users with a beginner-level of proficiency in the primary language are less active on Duolingo and advanced users are more active.\n"
   ]
  },
  {
   "cell_type": "markdown",
   "metadata": {},
   "source": [
    " ### 3.  ANALYSIS ON OTHER RESOURCES USED BY USERS"
   ]
  },
  {
   "cell_type": "code",
   "execution_count": 16,
   "metadata": {},
   "outputs": [
    {
     "data": {
      "text/html": [
       "<div>\n",
       "<style scoped>\n",
       "    .dataframe tbody tr th:only-of-type {\n",
       "        vertical-align: middle;\n",
       "    }\n",
       "\n",
       "    .dataframe tbody tr th {\n",
       "        vertical-align: top;\n",
       "    }\n",
       "\n",
       "    .dataframe thead th {\n",
       "        text-align: right;\n",
       "    }\n",
       "</style>\n",
       "<table border=\"1\" class=\"dataframe\">\n",
       "  <thead>\n",
       "    <tr style=\"text-align: right;\">\n",
       "      <th></th>\n",
       "      <th>user_id</th>\n",
       "    </tr>\n",
       "    <tr>\n",
       "      <th>other_resources</th>\n",
       "      <th></th>\n",
       "    </tr>\n",
       "  </thead>\n",
       "  <tbody>\n",
       "    <tr>\n",
       "      <th>Movies/TV Shows</th>\n",
       "      <td>549</td>\n",
       "    </tr>\n",
       "    <tr>\n",
       "      <th>Textbooks</th>\n",
       "      <td>368</td>\n",
       "    </tr>\n",
       "    <tr>\n",
       "      <th>Other apps</th>\n",
       "      <td>344</td>\n",
       "    </tr>\n",
       "    <tr>\n",
       "      <th>Other (please specify)</th>\n",
       "      <td>272</td>\n",
       "    </tr>\n",
       "    <tr>\n",
       "      <th>Speak with others (language events, conversation groups, meet-ups, etc.)</th>\n",
       "      <td>245</td>\n",
       "    </tr>\n",
       "    <tr>\n",
       "      <th>In-person language class</th>\n",
       "      <td>235</td>\n",
       "    </tr>\n",
       "    <tr>\n",
       "      <th>Online language class</th>\n",
       "      <td>135</td>\n",
       "    </tr>\n",
       "    <tr>\n",
       "      <th>Stories/novels/children's books</th>\n",
       "      <td>107</td>\n",
       "    </tr>\n",
       "    <tr>\n",
       "      <th>Textbooks,Movies/TV Shows</th>\n",
       "      <td>105</td>\n",
       "    </tr>\n",
       "    <tr>\n",
       "      <th>Stories/novels/children's books,Movies/TV Shows</th>\n",
       "      <td>89</td>\n",
       "    </tr>\n",
       "  </tbody>\n",
       "</table>\n",
       "</div>"
      ],
      "text/plain": [
       "                                                    user_id\n",
       "other_resources                                            \n",
       "Movies/TV Shows                                         549\n",
       "Textbooks                                               368\n",
       "Other apps                                              344\n",
       "Other (please specify)                                  272\n",
       "Speak with others (language events, conversatio...      245\n",
       "In-person language class                                235\n",
       "Online language class                                   135\n",
       "Stories/novels/children's books                         107\n",
       "Textbooks,Movies/TV Shows                               105\n",
       "Stories/novels/children's books,Movies/TV Shows          89"
      ]
     },
     "execution_count": 16,
     "metadata": {},
     "output_type": "execute_result"
    }
   ],
   "source": [
    "other_resources=data.groupby('other_resources').count()[['user_id']]\n",
    "other_resources=other_resources.sort_values(by = 'user_id', ascending = False).head(10)\n",
    "other_resources"
   ]
  },
  {
   "cell_type": "markdown",
   "metadata": {},
   "source": [
    "### 4. ANALYSIS ON INCOMPLETE COURSES"
   ]
  },
  {
   "cell_type": "code",
   "execution_count": 17,
   "metadata": {},
   "outputs": [
    {
     "data": {
      "text/plain": [
       "age\n",
       "18-34          10.729810\n",
       "35 - 54        17.698552\n",
       "55 - 74        22.085149\n",
       "75 or older    25.728682\n",
       "Under 18        8.909677\n",
       "dtype: float64"
      ]
     },
     "execution_count": 17,
     "metadata": {},
     "output_type": "execute_result"
    }
   ],
   "source": [
    "data_by_age=data.groupby('age').mean()\n",
    "\n",
    "# No. of incomplete courses\n",
    "data_by_age['n_lessons_started']-data_by_age['n_lessons_completed']"
   ]
  },
  {
   "cell_type": "markdown",
   "metadata": {},
   "source": [
    "### 5. ANALYSIS ON CUSTOMER RETENTION AND PROMOTION"
   ]
  },
  {
   "cell_type": "code",
   "execution_count": 18,
   "metadata": {},
   "outputs": [
    {
     "data": {
      "text/html": [
       "<div>\n",
       "<style scoped>\n",
       "    .dataframe tbody tr th:only-of-type {\n",
       "        vertical-align: middle;\n",
       "    }\n",
       "\n",
       "    .dataframe tbody tr th {\n",
       "        vertical-align: top;\n",
       "    }\n",
       "\n",
       "    .dataframe thead tr th {\n",
       "        text-align: left;\n",
       "    }\n",
       "\n",
       "    .dataframe thead tr:last-of-type th {\n",
       "        text-align: right;\n",
       "    }\n",
       "</style>\n",
       "<table border=\"1\" class=\"dataframe\">\n",
       "  <thead>\n",
       "    <tr>\n",
       "      <th></th>\n",
       "      <th colspan=\"2\" halign=\"left\">user_id</th>\n",
       "    </tr>\n",
       "    <tr>\n",
       "      <th>future_contact</th>\n",
       "      <th>No</th>\n",
       "      <th>Yes</th>\n",
       "    </tr>\n",
       "    <tr>\n",
       "      <th>purchased_subscription</th>\n",
       "      <th></th>\n",
       "      <th></th>\n",
       "    </tr>\n",
       "  </thead>\n",
       "  <tbody>\n",
       "    <tr>\n",
       "      <th>False</th>\n",
       "      <td>773</td>\n",
       "      <td>2790</td>\n",
       "    </tr>\n",
       "    <tr>\n",
       "      <th>True</th>\n",
       "      <td>169</td>\n",
       "      <td>1600</td>\n",
       "    </tr>\n",
       "  </tbody>\n",
       "</table>\n",
       "</div>"
      ],
      "text/plain": [
       "                       user_id      \n",
       "future_contact              No   Yes\n",
       "purchased_subscription              \n",
       "False                      773  2790\n",
       "True                       169  1600"
      ]
     },
     "execution_count": 18,
     "metadata": {},
     "output_type": "execute_result"
    }
   ],
   "source": [
    "pivot = data.pivot_table(index=['purchased_subscription'],columns=['future_contact'],values=['user_id'], aggfunc='count').fillna(0)\n",
    "pivot"
   ]
  },
  {
   "cell_type": "code",
   "execution_count": null,
   "metadata": {},
   "outputs": [],
   "source": []
  }
 ],
 "metadata": {
  "kernelspec": {
   "display_name": "Python 3",
   "language": "python",
   "name": "python3"
  },
  "language_info": {
   "codemirror_mode": {
    "name": "ipython",
    "version": 3
   },
   "file_extension": ".py",
   "mimetype": "text/x-python",
   "name": "python",
   "nbconvert_exporter": "python",
   "pygments_lexer": "ipython3",
   "version": "3.7.3"
  }
 },
 "nbformat": 4,
 "nbformat_minor": 2
}
